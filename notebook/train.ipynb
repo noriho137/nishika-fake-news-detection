{
  "nbformat": 4,
  "nbformat_minor": 0,
  "metadata": {
    "colab": {
      "name": "solution_train.ipynb",
      "provenance": [],
      "collapsed_sections": []
    },
    "kernelspec": {
      "name": "python3",
      "display_name": "Python 3"
    },
    "language_info": {
      "name": "python"
    },
    "accelerator": "GPU",
    "gpuClass": "standard"
  },
  "cells": [
    {
      "cell_type": "code",
      "source": [
        "!date"
      ],
      "metadata": {
        "colab": {
          "base_uri": "https://localhost:8080/"
        },
        "id": "39Lk94kcGPav",
        "outputId": "4b09f633-edaf-49ba-9237-be40d66bc3a8"
      },
      "execution_count": 1,
      "outputs": [
        {
          "output_type": "stream",
          "name": "stdout",
          "text": [
            "Wed Jun 22 14:36:51 UTC 2022\n"
          ]
        }
      ]
    },
    {
      "cell_type": "code",
      "source": [
        "!nvidia-smi"
      ],
      "metadata": {
        "colab": {
          "base_uri": "https://localhost:8080/"
        },
        "id": "idgkz7AIGQ77",
        "outputId": "5a984c9f-7856-48c2-bdec-e5a6ea608745"
      },
      "execution_count": 2,
      "outputs": [
        {
          "output_type": "stream",
          "name": "stdout",
          "text": [
            "Wed Jun 22 14:36:53 2022       \n",
            "+-----------------------------------------------------------------------------+\n",
            "| NVIDIA-SMI 460.32.03    Driver Version: 460.32.03    CUDA Version: 11.2     |\n",
            "|-------------------------------+----------------------+----------------------+\n",
            "| GPU  Name        Persistence-M| Bus-Id        Disp.A | Volatile Uncorr. ECC |\n",
            "| Fan  Temp  Perf  Pwr:Usage/Cap|         Memory-Usage | GPU-Util  Compute M. |\n",
            "|                               |                      |               MIG M. |\n",
            "|===============================+======================+======================|\n",
            "|   0  Tesla P100-PCIE...  Off  | 00000000:00:04.0 Off |                    0 |\n",
            "| N/A   36C    P0    26W / 250W |      0MiB / 16280MiB |      0%      Default |\n",
            "|                               |                      |                  N/A |\n",
            "+-------------------------------+----------------------+----------------------+\n",
            "                                                                               \n",
            "+-----------------------------------------------------------------------------+\n",
            "| Processes:                                                                  |\n",
            "|  GPU   GI   CI        PID   Type   Process name                  GPU Memory |\n",
            "|        ID   ID                                                   Usage      |\n",
            "|=============================================================================|\n",
            "|  No running processes found                                                 |\n",
            "+-----------------------------------------------------------------------------+\n"
          ]
        }
      ]
    },
    {
      "cell_type": "code",
      "execution_count": 3,
      "metadata": {
        "colab": {
          "base_uri": "https://localhost:8080/"
        },
        "id": "2txSxPXd-UHR",
        "outputId": "b9d0f6f5-303d-4cf0-e740-279e3c6e2dce"
      },
      "outputs": [
        {
          "output_type": "stream",
          "name": "stdout",
          "text": [
            "Mounted at /content/drive\n"
          ]
        }
      ],
      "source": [
        "from google.colab import drive\n",
        "\n",
        "drive.mount('/content/drive')"
      ]
    },
    {
      "cell_type": "code",
      "source": [
        "!cp -r /content/drive/MyDrive/'Colab Notebooks'/nishika/FakeNewsDetection/dataset/ .\n",
        "!cp -r /content/drive/MyDrive/'Colab Notebooks'/nishika/FakeNewsDetection/solution/ ."
      ],
      "metadata": {
        "id": "P5HDa5-O-WNb"
      },
      "execution_count": 4,
      "outputs": []
    },
    {
      "cell_type": "code",
      "source": [
        "%cd /content/solution/"
      ],
      "metadata": {
        "colab": {
          "base_uri": "https://localhost:8080/"
        },
        "id": "NR81dvU8_V6o",
        "outputId": "f1f510fa-88ce-4afd-9a95-6fd494962e31"
      },
      "execution_count": 5,
      "outputs": [
        {
          "output_type": "stream",
          "name": "stdout",
          "text": [
            "/content/solution\n"
          ]
        }
      ]
    },
    {
      "cell_type": "code",
      "source": [
        "!ls"
      ],
      "metadata": {
        "colab": {
          "base_uri": "https://localhost:8080/"
        },
        "id": "eUdwDqqB_YeR",
        "outputId": "1fe800dc-6d0a-46d9-8e24-45ace868aeeb"
      },
      "execution_count": 6,
      "outputs": [
        {
          "output_type": "stream",
          "name": "stdout",
          "text": [
            "directory_structure.txt  notebook   requirements.txt\n",
            "entry_points.md\t\t README.md  src\n"
          ]
        }
      ]
    },
    {
      "cell_type": "code",
      "source": [
        "!pip install -r requirements.txt"
      ],
      "metadata": {
        "colab": {
          "base_uri": "https://localhost:8080/"
        },
        "id": "6wHpZnFk_e5F",
        "outputId": "7b51227d-ecba-405b-cb83-78b63fd79368"
      },
      "execution_count": 7,
      "outputs": [
        {
          "output_type": "stream",
          "name": "stdout",
          "text": [
            "Looking in indexes: https://pypi.org/simple, https://us-python.pkg.dev/colab-wheels/public/simple/\n",
            "Collecting torch@ https://download.pytorch.org/whl/cu113/torch-1.11.0%2Bcu113-cp37-cp37m-linux_x86_64.whl\n",
            "  Downloading https://download.pytorch.org/whl/cu113/torch-1.11.0%2Bcu113-cp37-cp37m-linux_x86_64.whl (1637.0 MB)\n",
            "\u001b[K     |████████████████▎               | 834.1 MB 1.2 MB/s eta 0:10:55tcmalloc: large alloc 1147494400 bytes == 0x1f56000 @  0x7fde8625d615 0x592b76 0x4df71e 0x59afff 0x515655 0x549576 0x593fce 0x548ae9 0x51566f 0x549576 0x593fce 0x548ae9 0x5127f1 0x598e3b 0x511f68 0x598e3b 0x511f68 0x598e3b 0x511f68 0x4bc98a 0x532e76 0x594b72 0x515600 0x549576 0x593fce 0x548ae9 0x5127f1 0x549576 0x593fce 0x5118f8 0x593dd7\n",
            "\u001b[K     |████████████████████▋           | 1055.7 MB 1.2 MB/s eta 0:07:59tcmalloc: large alloc 1434370048 bytes == 0x465ac000 @  0x7fde8625d615 0x592b76 0x4df71e 0x59afff 0x515655 0x549576 0x593fce 0x548ae9 0x51566f 0x549576 0x593fce 0x548ae9 0x5127f1 0x598e3b 0x511f68 0x598e3b 0x511f68 0x598e3b 0x511f68 0x4bc98a 0x532e76 0x594b72 0x515600 0x549576 0x593fce 0x548ae9 0x5127f1 0x549576 0x593fce 0x5118f8 0x593dd7\n",
            "\u001b[K     |██████████████████████████▏     | 1336.2 MB 1.2 MB/s eta 0:04:11tcmalloc: large alloc 1792966656 bytes == 0x9bd98000 @  0x7fde8625d615 0x592b76 0x4df71e 0x59afff 0x515655 0x549576 0x593fce 0x548ae9 0x51566f 0x549576 0x593fce 0x548ae9 0x5127f1 0x598e3b 0x511f68 0x598e3b 0x511f68 0x598e3b 0x511f68 0x4bc98a 0x532e76 0x594b72 0x515600 0x549576 0x593fce 0x548ae9 0x5127f1 0x549576 0x593fce 0x5118f8 0x593dd7\n",
            "\u001b[K     |████████████████████████████████| 1636.9 MB 1.1 MB/s eta 0:00:01tcmalloc: large alloc 1636958208 bytes == 0x1f56000 @  0x7fde8625c1e7 0x4a3940 0x4a39cc 0x592b76 0x4df71e 0x59afff 0x515655 0x549576 0x593fce 0x511e2c 0x549576 0x593fce 0x511e2c 0x549576 0x593fce 0x511e2c 0x549576 0x593fce 0x511e2c 0x549576 0x593fce 0x511e2c 0x593dd7 0x511e2c 0x549576 0x593fce 0x548ae9 0x5127f1 0x549576 0x593fce 0x548ae9\n",
            "tcmalloc: large alloc 2046197760 bytes == 0x106b80000 @  0x7fde8625d615 0x592b76 0x4df71e 0x59afff 0x515655 0x549576 0x593fce 0x511e2c 0x549576 0x593fce 0x511e2c 0x549576 0x593fce 0x511e2c 0x549576 0x593fce 0x511e2c 0x549576 0x593fce 0x511e2c 0x593dd7 0x511e2c 0x549576 0x593fce 0x548ae9 0x5127f1 0x549576 0x593fce 0x548ae9 0x5127f1 0x549576\n",
            "\u001b[K     |████████████████████████████████| 1637.0 MB 6.7 kB/s \n",
            "\u001b[?25hCollecting fugashi==1.1.2\n",
            "  Downloading fugashi-1.1.2-cp37-cp37m-manylinux_2_17_x86_64.manylinux2014_x86_64.whl (568 kB)\n",
            "\u001b[K     |████████████████████████████████| 568 kB 4.7 MB/s \n",
            "\u001b[?25hCollecting ipadic==1.0.0\n",
            "  Downloading ipadic-1.0.0.tar.gz (13.4 MB)\n",
            "\u001b[K     |████████████████████████████████| 13.4 MB 69.9 MB/s \n",
            "\u001b[?25hRequirement already satisfied: matplotlib==3.2.2 in /usr/local/lib/python3.7/dist-packages (from -r requirements.txt (line 3)) (3.2.2)\n",
            "Requirement already satisfied: numpy==1.21.6 in /usr/local/lib/python3.7/dist-packages (from -r requirements.txt (line 4)) (1.21.6)\n",
            "Requirement already satisfied: pandas==1.3.5 in /usr/local/lib/python3.7/dist-packages (from -r requirements.txt (line 5)) (1.3.5)\n",
            "Requirement already satisfied: pip-tools==6.2.0 in /usr/local/lib/python3.7/dist-packages (from -r requirements.txt (line 6)) (6.2.0)\n",
            "Requirement already satisfied: scikit-learn==1.0.2 in /usr/local/lib/python3.7/dist-packages (from -r requirements.txt (line 7)) (1.0.2)\n",
            "Requirement already satisfied: scipy==1.4.1 in /usr/local/lib/python3.7/dist-packages (from -r requirements.txt (line 8)) (1.4.1)\n",
            "Collecting transformers==4.20.0\n",
            "  Downloading transformers-4.20.0-py3-none-any.whl (4.4 MB)\n",
            "\u001b[K     |████████████████████████████████| 4.4 MB 54.1 MB/s \n",
            "\u001b[?25hRequirement already satisfied: typing-extensions in /usr/local/lib/python3.7/dist-packages (from torch@ https://download.pytorch.org/whl/cu113/torch-1.11.0%2Bcu113-cp37-cp37m-linux_x86_64.whl->-r requirements.txt (line 9)) (4.1.1)\n",
            "Requirement already satisfied: kiwisolver>=1.0.1 in /usr/local/lib/python3.7/dist-packages (from matplotlib==3.2.2->-r requirements.txt (line 3)) (1.4.3)\n",
            "Requirement already satisfied: python-dateutil>=2.1 in /usr/local/lib/python3.7/dist-packages (from matplotlib==3.2.2->-r requirements.txt (line 3)) (2.8.2)\n",
            "Requirement already satisfied: pyparsing!=2.0.4,!=2.1.2,!=2.1.6,>=2.0.1 in /usr/local/lib/python3.7/dist-packages (from matplotlib==3.2.2->-r requirements.txt (line 3)) (3.0.9)\n",
            "Requirement already satisfied: cycler>=0.10 in /usr/local/lib/python3.7/dist-packages (from matplotlib==3.2.2->-r requirements.txt (line 3)) (0.11.0)\n",
            "Requirement already satisfied: pytz>=2017.3 in /usr/local/lib/python3.7/dist-packages (from pandas==1.3.5->-r requirements.txt (line 5)) (2022.1)\n",
            "Requirement already satisfied: wheel in /usr/local/lib/python3.7/dist-packages (from pip-tools==6.2.0->-r requirements.txt (line 6)) (0.37.1)\n",
            "Requirement already satisfied: pep517 in /usr/local/lib/python3.7/dist-packages (from pip-tools==6.2.0->-r requirements.txt (line 6)) (0.12.0)\n",
            "Requirement already satisfied: pip>=20.3 in /usr/local/lib/python3.7/dist-packages (from pip-tools==6.2.0->-r requirements.txt (line 6)) (21.1.3)\n",
            "Requirement already satisfied: setuptools in /usr/local/lib/python3.7/dist-packages (from pip-tools==6.2.0->-r requirements.txt (line 6)) (57.4.0)\n",
            "Requirement already satisfied: click>=7 in /usr/local/lib/python3.7/dist-packages (from pip-tools==6.2.0->-r requirements.txt (line 6)) (7.1.2)\n",
            "Requirement already satisfied: joblib>=0.11 in /usr/local/lib/python3.7/dist-packages (from scikit-learn==1.0.2->-r requirements.txt (line 7)) (1.1.0)\n",
            "Requirement already satisfied: threadpoolctl>=2.0.0 in /usr/local/lib/python3.7/dist-packages (from scikit-learn==1.0.2->-r requirements.txt (line 7)) (3.1.0)\n",
            "Requirement already satisfied: requests in /usr/local/lib/python3.7/dist-packages (from transformers==4.20.0->-r requirements.txt (line 10)) (2.23.0)\n",
            "Collecting pyyaml>=5.1\n",
            "  Downloading PyYAML-6.0-cp37-cp37m-manylinux_2_5_x86_64.manylinux1_x86_64.manylinux_2_12_x86_64.manylinux2010_x86_64.whl (596 kB)\n",
            "\u001b[K     |████████████████████████████████| 596 kB 66.8 MB/s \n",
            "\u001b[?25hRequirement already satisfied: importlib-metadata in /usr/local/lib/python3.7/dist-packages (from transformers==4.20.0->-r requirements.txt (line 10)) (4.11.4)\n",
            "Requirement already satisfied: filelock in /usr/local/lib/python3.7/dist-packages (from transformers==4.20.0->-r requirements.txt (line 10)) (3.7.1)\n",
            "Collecting tokenizers!=0.11.3,<0.13,>=0.11.1\n",
            "  Downloading tokenizers-0.12.1-cp37-cp37m-manylinux_2_12_x86_64.manylinux2010_x86_64.whl (6.6 MB)\n",
            "\u001b[K     |████████████████████████████████| 6.6 MB 54.0 MB/s \n",
            "\u001b[?25hRequirement already satisfied: packaging>=20.0 in /usr/local/lib/python3.7/dist-packages (from transformers==4.20.0->-r requirements.txt (line 10)) (21.3)\n",
            "Collecting huggingface-hub<1.0,>=0.1.0\n",
            "  Downloading huggingface_hub-0.8.1-py3-none-any.whl (101 kB)\n",
            "\u001b[K     |████████████████████████████████| 101 kB 12.3 MB/s \n",
            "\u001b[?25hRequirement already satisfied: tqdm>=4.27 in /usr/local/lib/python3.7/dist-packages (from transformers==4.20.0->-r requirements.txt (line 10)) (4.64.0)\n",
            "Requirement already satisfied: regex!=2019.12.17 in /usr/local/lib/python3.7/dist-packages (from transformers==4.20.0->-r requirements.txt (line 10)) (2022.6.2)\n",
            "Requirement already satisfied: six>=1.5 in /usr/local/lib/python3.7/dist-packages (from python-dateutil>=2.1->matplotlib==3.2.2->-r requirements.txt (line 3)) (1.15.0)\n",
            "Requirement already satisfied: zipp>=0.5 in /usr/local/lib/python3.7/dist-packages (from importlib-metadata->transformers==4.20.0->-r requirements.txt (line 10)) (3.8.0)\n",
            "Requirement already satisfied: tomli>=1.1.0 in /usr/local/lib/python3.7/dist-packages (from pep517->pip-tools==6.2.0->-r requirements.txt (line 6)) (2.0.1)\n",
            "Requirement already satisfied: certifi>=2017.4.17 in /usr/local/lib/python3.7/dist-packages (from requests->transformers==4.20.0->-r requirements.txt (line 10)) (2022.6.15)\n",
            "Requirement already satisfied: idna<3,>=2.5 in /usr/local/lib/python3.7/dist-packages (from requests->transformers==4.20.0->-r requirements.txt (line 10)) (2.10)\n",
            "Requirement already satisfied: urllib3!=1.25.0,!=1.25.1,<1.26,>=1.21.1 in /usr/local/lib/python3.7/dist-packages (from requests->transformers==4.20.0->-r requirements.txt (line 10)) (1.24.3)\n",
            "Requirement already satisfied: chardet<4,>=3.0.2 in /usr/local/lib/python3.7/dist-packages (from requests->transformers==4.20.0->-r requirements.txt (line 10)) (3.0.4)\n",
            "Building wheels for collected packages: ipadic\n",
            "  Building wheel for ipadic (setup.py) ... \u001b[?25l\u001b[?25hdone\n",
            "  Created wheel for ipadic: filename=ipadic-1.0.0-py3-none-any.whl size=13556723 sha256=556c1947deb7a381a1509b8a827581cc7db051a7fd6b4a7d74f0b01cb37946ce\n",
            "  Stored in directory: /root/.cache/pip/wheels/33/8b/99/cf0d27191876637cd3639a560f93aa982d7855ce826c94348b\n",
            "Successfully built ipadic\n",
            "Installing collected packages: pyyaml, tokenizers, huggingface-hub, transformers, ipadic, fugashi\n",
            "  Attempting uninstall: pyyaml\n",
            "    Found existing installation: PyYAML 3.13\n",
            "    Uninstalling PyYAML-3.13:\n",
            "      Successfully uninstalled PyYAML-3.13\n",
            "Successfully installed fugashi-1.1.2 huggingface-hub-0.8.1 ipadic-1.0.0 pyyaml-6.0 tokenizers-0.12.1 transformers-4.20.0\n"
          ]
        }
      ]
    },
    {
      "cell_type": "code",
      "source": [
        "%cd /content/solution/src/"
      ],
      "metadata": {
        "colab": {
          "base_uri": "https://localhost:8080/"
        },
        "id": "_6FtvBWAzjdn",
        "outputId": "96d0ba6e-8296-4cb4-bfff-e1accb8a44e3"
      },
      "execution_count": 8,
      "outputs": [
        {
          "output_type": "stream",
          "name": "stdout",
          "text": [
            "/content/solution/src\n"
          ]
        }
      ]
    },
    {
      "cell_type": "code",
      "source": [
        "!ls"
      ],
      "metadata": {
        "colab": {
          "base_uri": "https://localhost:8080/"
        },
        "id": "xbtodhru0zys",
        "outputId": "3c9231c6-a6b0-4999-96d5-c4f47453a9e8"
      },
      "execution_count": 9,
      "outputs": [
        {
          "output_type": "stream",
          "name": "stdout",
          "text": [
            "dataset.py   models.py\t settings.json\ttrain.py\n",
            "__init__.py  predict.py  train_loop.py\tutils.py\n"
          ]
        }
      ]
    },
    {
      "cell_type": "code",
      "source": [
        "!python train.py"
      ],
      "metadata": {
        "id": "pYjx6ToV_hXf",
        "colab": {
          "base_uri": "https://localhost:8080/"
        },
        "outputId": "1fe26a22-d333-4706-a8d7-7710f00031c1"
      },
      "execution_count": 10,
      "outputs": [
        {
          "output_type": "stream",
          "name": "stdout",
          "text": [
            "{'RAW_DATA_DIR': '/content/drive/MyDrive/Colab Notebooks/nishika/FakeNewsDetection/dataset/', 'MODEL_CHECKPOINT_DIR': '/content/drive/MyDrive/Colab Notebooks/nishika/FakeNewsDetection/out/models/', 'LOGS_DIR': '/content/drive/MyDrive/Colab Notebooks/nishika/FakeNewsDetection/out/logs/', 'SUBMISSION_DIR': '/content/drive/MyDrive/Colab Notebooks/nishika/FakeNewsDetection/out/submissions/'}\n",
            "[1.02521692 0.9759938 ]\n",
            "Downloading: 100% 707/707 [00:00<00:00, 916kB/s]\n",
            "Downloading: 100% 424M/424M [00:06<00:00, 66.8MB/s]\n",
            "Some weights of the model checkpoint at izumi-lab/electra-base-japanese-discriminator were not used when initializing ElectraModel: ['discriminator_predictions.dense.bias', 'discriminator_predictions.dense_prediction.bias', 'discriminator_predictions.dense_prediction.weight', 'discriminator_predictions.dense.weight']\n",
            "- This IS expected if you are initializing ElectraModel from the checkpoint of a model trained on another task or with another architecture (e.g. initializing a BertForSequenceClassification model from a BertForPreTraining model).\n",
            "- This IS NOT expected if you are initializing ElectraModel from the checkpoint of a model that you expect to be exactly identical (initializing a BertForSequenceClassification model from a BertForSequenceClassification model).\n",
            "Downloading: 100% 357/357 [00:00<00:00, 408kB/s]\n",
            "Downloading: 100% 235k/235k [00:00<00:00, 3.03MB/s]\n",
            "Downloading: 100% 112/112 [00:00<00:00, 119kB/s]\n",
            "Device: cuda\n",
            "Device: cuda\n",
            "Epoch 1/4 [train] loss=0.23325240650465565, cm=[1379  107  137 1401], accuracy=0.9193121693121693, precision=0.9290450928381963, recall=0.9109232769830949, f1=0.9198949441891004, time=159.3230984210968\n",
            "Epoch 1/4 [valid] loss=0.052561829468080155, cm=[356   2  11 388], accuracy=0.9828269484808454, precision=0.9948717948717949, recall=0.9724310776942355, f1=0.9835234474017744, time=13.907902717590332\n",
            "Epoch 2/4 [train] loss=0.03413181958927049, cm=[1473   13   14 1524], accuracy=0.9910714285714286, precision=0.9915419648666233, recall=0.9908972691807543, f1=0.9912195121951219, time=159.16609740257263\n",
            "Epoch 2/4 [valid] loss=0.02882321460250144, cm=[354   4   2 397], accuracy=0.9920739762219286, precision=0.9900249376558603, recall=0.9949874686716792, f1=0.9924999999999999, time=13.899554252624512\n",
            "Epoch 3/4 [train] loss=0.009726654130857063, cm=[1484    2    2 1536], accuracy=0.9986772486772487, precision=0.9986996098829649, recall=0.9986996098829649, f1=0.9986996098829649, time=159.37676000595093\n",
            "Epoch 3/4 [valid] loss=0.06815734206611523, cm=[358   0  19 380], accuracy=0.9749009247027741, precision=1.0, recall=0.9523809523809523, f1=0.975609756097561, time=13.902925491333008\n",
            "Epoch 4/4 [train] loss=0.016412863039741755, cm=[1478    8   11 1527], accuracy=0.9937169312169312, precision=0.9947882736156352, recall=0.9928478543563068, f1=0.9938171168239505, time=159.3013060092926\n",
            "Epoch 4/4 [valid] loss=0.021492589061381295, cm=[356   2   2 397], accuracy=0.9947159841479525, precision=0.9949874686716792, recall=0.9949874686716792, f1=0.9949874686716792, time=13.918875932693481\n",
            "<Figure size 3000x500 with 5 Axes>\n"
          ]
        }
      ]
    },
    {
      "cell_type": "code",
      "source": [
        "!date"
      ],
      "metadata": {
        "id": "5Is04oOQG7WS",
        "colab": {
          "base_uri": "https://localhost:8080/"
        },
        "outputId": "7c0a7332-6cb5-4d07-e469-ffb6f83c1f85"
      },
      "execution_count": 12,
      "outputs": [
        {
          "output_type": "stream",
          "name": "stdout",
          "text": [
            "Wed Jun 22 14:51:29 UTC 2022\n"
          ]
        }
      ]
    }
  ]
}